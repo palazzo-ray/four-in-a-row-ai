{
 "cells": [
  {
   "cell_type": "code",
   "execution_count": 1,
   "metadata": {},
   "outputs": [
    {
     "data": {
      "text/html": [
       "<script type=\"text/javascript\">window.PlotlyConfig = {MathJaxConfig: 'local'};</script><script type=\"text/javascript\">if (window.MathJax) {MathJax.Hub.Config({SVG: {font: \"STIX-Web\"}});}</script><script>requirejs.config({paths: { 'plotly': ['https://cdn.plot.ly/plotly-latest.min']},});if(!window._Plotly) {require(['plotly'],function(plotly) {window._Plotly=plotly;});}</script>"
      ],
      "text/vnd.plotly.v1+html": [
       "<script type=\"text/javascript\">window.PlotlyConfig = {MathJaxConfig: 'local'};</script><script type=\"text/javascript\">if (window.MathJax) {MathJax.Hub.Config({SVG: {font: \"STIX-Web\"}});}</script><script>requirejs.config({paths: { 'plotly': ['https://cdn.plot.ly/plotly-latest.min']},});if(!window._Plotly) {require(['plotly'],function(plotly) {window._Plotly=plotly;});}</script>"
      ]
     },
     "metadata": {},
     "output_type": "display_data"
    }
   ],
   "source": [
    "import pandas as pd\n",
    "import plotly.plotly as py\n",
    "import plotly.graph_objs as go\n",
    "from plotly.offline import init_notebook_mode, iplot\n",
    "from plotly import tools\n",
    "\n",
    "init_notebook_mode(connected=True)         # initiate notebook for offline plot\n",
    "\n",
    "import pandas as pd"
   ]
  },
  {
   "cell_type": "code",
   "execution_count": 2,
   "metadata": {},
   "outputs": [
    {
     "data": {
      "text/plain": [
       "2"
      ]
     },
     "execution_count": 2,
     "metadata": {},
     "output_type": "execute_result"
    }
   ],
   "source": [
    "int(5/2)\n",
    "\n"
   ]
  },
  {
   "cell_type": "code",
   "execution_count": 63,
   "metadata": {},
   "outputs": [],
   "source": [
    "discount = 0.95\n",
    "\n",
    "normal_factor = 110\n",
    "def get_step_reward(step, scn, second_hand=True):\n",
    "\n",
    "    played_button = int(2 * step)\n",
    "    \n",
    "    if second_hand:\n",
    "        played_button += 1\n",
    "        \n",
    "    no_space = 42 - played_button\n",
    "    \n",
    "    test = False\n",
    "    \n",
    "    if test:\n",
    "        if scn == 'cont':\n",
    "            reward = 0\n",
    "        elif scn == 'win':\n",
    "            reward = 1\n",
    "        elif scn == 'wrong':\n",
    "            reward = -2\n",
    "        elif scn == 'loss':\n",
    "            reward = -1\n",
    "        elif scn == 'draw':\n",
    "            reward = 0.6\n",
    "    \n",
    "    else:\n",
    "        if scn == 'cont':\n",
    "            reward = (0.01 * played_button)   \n",
    "        elif scn == 'win':\n",
    "            reward = (3 * no_space)      \n",
    "        elif scn == 'wrong':\n",
    "            reward = (-0.1 * no_space) - 125\n",
    "        elif scn == 'loss':\n",
    "            reward = (-1 * no_space)    - 10\n",
    "        elif scn == 'draw':\n",
    "            reward = (-0.02 * played_button)    -2\n",
    "        \n",
    "    reward = reward *  ( discount  ** (step) )\n",
    "    return reward\n",
    "\n",
    "\n",
    "def get_reward( total_step , scn, second_hand):\n",
    "    reward = 0\n",
    "       \n",
    "    for i in range(1,total_step):\n",
    "        reward += get_step_reward(i,  'cont', second_hand)\n",
    "        \n",
    "    reward += get_step_reward(total_step, scn, second_hand)\n",
    "\n",
    "    return reward / normal_factor\n"
   ]
  },
  {
   "cell_type": "code",
   "execution_count": 4,
   "metadata": {},
   "outputs": [],
   "source": [
    "def get_scn(scn, check_list,second_hand ):\n",
    "    \n",
    "    if scn == 'win':\n",
    "        for i in range(3, 22):\n",
    "            reward = get_reward(i, scn, second_hand)\n",
    "            check_list.append( [ i , reward ] )\n",
    "            \n",
    "           \n",
    "    elif scn == 'draw':\n",
    "        \n",
    "        if second_hand:\n",
    "            reward = get_reward(20, scn, True)        \n",
    "            check_list.append( [ 20 , reward ] )\n",
    "        else:\n",
    "            reward = get_reward(21, scn, False)\n",
    "            check_list.append( [ 21 , reward ] )\n",
    "    else:\n",
    "        for i in range(21, 2, -1):\n",
    "            reward = get_reward(i, scn, second_hand)\n",
    "            check_list.append( [ i , reward ] )\n",
    "\n"
   ]
  },
  {
   "cell_type": "code",
   "execution_count": 67,
   "metadata": {},
   "outputs": [
    {
     "data": {
      "application/vnd.plotly.v1+json": {
       "config": {
        "linkText": "Export to plot.ly",
        "plotlyServerURL": "https://plot.ly",
        "showLink": true
       },
       "data": [
        {
         "type": "scatter",
         "uid": "bd982a61-95dc-42a5-9e98-895580e19426",
         "x": [
          3,
          4,
          5,
          6,
          7,
          8,
          9,
          10,
          11,
          12,
          13,
          14,
          15,
          16,
          17,
          18,
          19,
          20,
          21,
          21
         ],
         "y": [
          0.8422872727272727,
          0.756238,
          0.6768606636363633,
          0.603703193181818,
          0.5363420453863634,
          0.4743804816602271,
          0.4174469464659657,
          0.36519354085970723,
          0.3172945857206369,
          0.27344526951605164,
          0.2333603757403506,
          0.19677308544115676,
          0.16343385050525877,
          0.13310933362207492,
          0.10558141107367358,
          0.08064623471878446,
          0.05811334974442737,
          0.03780486495343628,
          0.01955467253991052,
          0.010761990552108285
         ]
        }
       ],
       "layout": {}
      },
      "text/html": [
       "<div id=\"3a18fdb1-328a-4180-948e-acbc299af6df\" style=\"height: 525px; width: 100%;\" class=\"plotly-graph-div\"></div><script type=\"text/javascript\">require([\"plotly\"], function(Plotly) { window.PLOTLYENV=window.PLOTLYENV || {};window.PLOTLYENV.BASE_URL=\"https://plot.ly\";Plotly.newPlot(\"3a18fdb1-328a-4180-948e-acbc299af6df\", [{\"x\": [3, 4, 5, 6, 7, 8, 9, 10, 11, 12, 13, 14, 15, 16, 17, 18, 19, 20, 21, 21], \"y\": [0.8422872727272727, 0.756238, 0.6768606636363633, 0.603703193181818, 0.5363420453863634, 0.4743804816602271, 0.4174469464659657, 0.36519354085970723, 0.3172945857206369, 0.27344526951605164, 0.2333603757403506, 0.19677308544115676, 0.16343385050525877, 0.13310933362207492, 0.10558141107367358, 0.08064623471878446, 0.05811334974442737, 0.03780486495343628, 0.01955467253991052, 0.010761990552108285], \"type\": \"scatter\", \"uid\": \"f9846869-2f77-4c54-a212-65a4fb0d372d\"}], {}, {\"showLink\": true, \"linkText\": \"Export to plot.ly\", \"plotlyServerURL\": \"https://plot.ly\"})});</script><script type=\"text/javascript\">window.addEventListener(\"resize\", function(){window._Plotly.Plots.resize(document.getElementById(\"3a18fdb1-328a-4180-948e-acbc299af6df\"));});</script>"
      ],
      "text/vnd.plotly.v1+html": [
       "<div id=\"3a18fdb1-328a-4180-948e-acbc299af6df\" style=\"height: 525px; width: 100%;\" class=\"plotly-graph-div\"></div><script type=\"text/javascript\">require([\"plotly\"], function(Plotly) { window.PLOTLYENV=window.PLOTLYENV || {};window.PLOTLYENV.BASE_URL=\"https://plot.ly\";Plotly.newPlot(\"3a18fdb1-328a-4180-948e-acbc299af6df\", [{\"x\": [3, 4, 5, 6, 7, 8, 9, 10, 11, 12, 13, 14, 15, 16, 17, 18, 19, 20, 21, 21], \"y\": [0.8422872727272727, 0.756238, 0.6768606636363633, 0.603703193181818, 0.5363420453863634, 0.4743804816602271, 0.4174469464659657, 0.36519354085970723, 0.3172945857206369, 0.27344526951605164, 0.2333603757403506, 0.19677308544115676, 0.16343385050525877, 0.13310933362207492, 0.10558141107367358, 0.08064623471878446, 0.05811334974442737, 0.03780486495343628, 0.01955467253991052, 0.010761990552108285], \"type\": \"scatter\", \"uid\": \"f9846869-2f77-4c54-a212-65a4fb0d372d\"}], {}, {\"showLink\": true, \"linkText\": \"Export to plot.ly\", \"plotlyServerURL\": \"https://plot.ly\"})});</script><script type=\"text/javascript\">window.addEventListener(\"resize\", function(){window._Plotly.Plots.resize(document.getElementById(\"3a18fdb1-328a-4180-948e-acbc299af6df\"));});</script>"
      ]
     },
     "metadata": {},
     "output_type": "display_data"
    },
    {
     "data": {
      "text/html": [
       "<div>\n",
       "<style scoped>\n",
       "    .dataframe tbody tr th:only-of-type {\n",
       "        vertical-align: middle;\n",
       "    }\n",
       "\n",
       "    .dataframe tbody tr th {\n",
       "        vertical-align: top;\n",
       "    }\n",
       "\n",
       "    .dataframe thead th {\n",
       "        text-align: right;\n",
       "    }\n",
       "</style>\n",
       "<table border=\"1\" class=\"dataframe\">\n",
       "  <thead>\n",
       "    <tr style=\"text-align: right;\">\n",
       "      <th></th>\n",
       "      <th>step</th>\n",
       "      <th>score</th>\n",
       "    </tr>\n",
       "  </thead>\n",
       "  <tbody>\n",
       "    <tr>\n",
       "      <th>0</th>\n",
       "      <td>3</td>\n",
       "      <td>0.842287</td>\n",
       "    </tr>\n",
       "    <tr>\n",
       "      <th>1</th>\n",
       "      <td>4</td>\n",
       "      <td>0.756238</td>\n",
       "    </tr>\n",
       "    <tr>\n",
       "      <th>2</th>\n",
       "      <td>5</td>\n",
       "      <td>0.676861</td>\n",
       "    </tr>\n",
       "    <tr>\n",
       "      <th>3</th>\n",
       "      <td>6</td>\n",
       "      <td>0.603703</td>\n",
       "    </tr>\n",
       "    <tr>\n",
       "      <th>4</th>\n",
       "      <td>7</td>\n",
       "      <td>0.536342</td>\n",
       "    </tr>\n",
       "    <tr>\n",
       "      <th>5</th>\n",
       "      <td>8</td>\n",
       "      <td>0.474380</td>\n",
       "    </tr>\n",
       "    <tr>\n",
       "      <th>6</th>\n",
       "      <td>9</td>\n",
       "      <td>0.417447</td>\n",
       "    </tr>\n",
       "    <tr>\n",
       "      <th>7</th>\n",
       "      <td>10</td>\n",
       "      <td>0.365194</td>\n",
       "    </tr>\n",
       "    <tr>\n",
       "      <th>8</th>\n",
       "      <td>11</td>\n",
       "      <td>0.317295</td>\n",
       "    </tr>\n",
       "    <tr>\n",
       "      <th>9</th>\n",
       "      <td>12</td>\n",
       "      <td>0.273445</td>\n",
       "    </tr>\n",
       "    <tr>\n",
       "      <th>10</th>\n",
       "      <td>13</td>\n",
       "      <td>0.233360</td>\n",
       "    </tr>\n",
       "    <tr>\n",
       "      <th>11</th>\n",
       "      <td>14</td>\n",
       "      <td>0.196773</td>\n",
       "    </tr>\n",
       "    <tr>\n",
       "      <th>12</th>\n",
       "      <td>15</td>\n",
       "      <td>0.163434</td>\n",
       "    </tr>\n",
       "    <tr>\n",
       "      <th>13</th>\n",
       "      <td>16</td>\n",
       "      <td>0.133109</td>\n",
       "    </tr>\n",
       "    <tr>\n",
       "      <th>14</th>\n",
       "      <td>17</td>\n",
       "      <td>0.105581</td>\n",
       "    </tr>\n",
       "    <tr>\n",
       "      <th>15</th>\n",
       "      <td>18</td>\n",
       "      <td>0.080646</td>\n",
       "    </tr>\n",
       "    <tr>\n",
       "      <th>16</th>\n",
       "      <td>19</td>\n",
       "      <td>0.058113</td>\n",
       "    </tr>\n",
       "    <tr>\n",
       "      <th>17</th>\n",
       "      <td>20</td>\n",
       "      <td>0.037805</td>\n",
       "    </tr>\n",
       "    <tr>\n",
       "      <th>18</th>\n",
       "      <td>21</td>\n",
       "      <td>0.019555</td>\n",
       "    </tr>\n",
       "    <tr>\n",
       "      <th>19</th>\n",
       "      <td>21</td>\n",
       "      <td>0.010762</td>\n",
       "    </tr>\n",
       "  </tbody>\n",
       "</table>\n",
       "</div>"
      ],
      "text/plain": [
       "    step     score\n",
       "0      3  0.842287\n",
       "1      4  0.756238\n",
       "2      5  0.676861\n",
       "3      6  0.603703\n",
       "4      7  0.536342\n",
       "5      8  0.474380\n",
       "6      9  0.417447\n",
       "7     10  0.365194\n",
       "8     11  0.317295\n",
       "9     12  0.273445\n",
       "10    13  0.233360\n",
       "11    14  0.196773\n",
       "12    15  0.163434\n",
       "13    16  0.133109\n",
       "14    17  0.105581\n",
       "15    18  0.080646\n",
       "16    19  0.058113\n",
       "17    20  0.037805\n",
       "18    21  0.019555\n",
       "19    21  0.010762"
      ]
     },
     "execution_count": 67,
     "metadata": {},
     "output_type": "execute_result"
    }
   ],
   "source": [
    "check_list = []\n",
    "\n",
    "second_hand =False\n",
    "get_scn('win' , check_list, second_hand)   \n",
    "get_scn('draw' , check_list, second_hand)\n",
    "#get_scn('loss' , check_list, second_hand)   \n",
    "#get_scn('wrong' , check_list, second_hand)   \n",
    "\n",
    "df = pd.DataFrame( data = check_list , columns=[ 'step' , 'score'])\n",
    "\n",
    "line = go.Scatter( x = df['step'] , y=df['score'])\n",
    "line2 = go.Scatter( y=df['score'])\n",
    "iplot([line])\n",
    "df"
   ]
  },
  {
   "cell_type": "code",
   "execution_count": 24,
   "metadata": {},
   "outputs": [
    {
     "data": {
      "application/vnd.plotly.v1+json": {
       "config": {
        "linkText": "Export to plot.ly",
        "plotlyServerURL": "https://plot.ly",
        "showLink": true
       },
       "data": [
        {
         "type": "scatter",
         "uid": "ba515f54-018d-4750-a0a7-342d0c6b49ce",
         "y": [
          0.9746999999999999,
          0.8745224999999999,
          0.7819259999999998,
          0.6964028437499998,
          0.6174771881249997,
          0.5447030909531247,
          0.47766271052812476,
          0.415964610418242,
          0.3592421635430271,
          0.3071520498292882,
          0.2593728420780656,
          0.21560367497739202,
          0.17556299248159063,
          0.1389873690479259,
          0.10563040047642368,
          0.07526166033945186,
          0.04766571821498618,
          0.022641216152118435,
          0,
          -0.00659614097231717,
          -0.010754577672256257,
          -0.018867680126765363,
          -0.027805002292075272,
          -0.03763083016972593,
          -0.04841393355169419,
          -0.060227859920767894,
          -0.07315124686732942,
          -0.0872681541575158,
          -0.10266841665590097,
          -0.11944801937805653,
          -0.1377094960248271,
          -0.1575623524311523,
          -0.1791235164480468,
          -0.20251781586718745,
          -0.2278784860937499,
          -0.25534770937499995,
          -0.28507718749999994,
          -0.31722874999999995,
          -0.351975,
          -0.3584859224085419,
          -0.37810830974037785,
          -0.39880317573205104,
          -0.4206290572304921,
          -0.4436476820009794,
          -0.4679241424613505,
          -0.4935270788649159,
          -0.5205288724454179,
          -0.5490058490652389,
          -0.5790384939374359,
          -0.6107116780231462,
          -0.6441148967385505,
          -0.6793425216399996,
          -0.7164940657921872,
          -0.7556744635624998,
          -0.7969943656249998,
          -0.8405704499999999,
          -0.8865257499999999,
          -0.9349899999999999
         ]
        }
       ],
       "layout": {}
      },
      "text/html": [
       "<div id=\"1ac465e4-b15b-4322-b181-639f487276d6\" style=\"height: 525px; width: 100%;\" class=\"plotly-graph-div\"></div><script type=\"text/javascript\">require([\"plotly\"], function(Plotly) { window.PLOTLYENV=window.PLOTLYENV || {};window.PLOTLYENV.BASE_URL=\"https://plot.ly\";Plotly.newPlot(\"1ac465e4-b15b-4322-b181-639f487276d6\", [{\"y\": [0.9746999999999999, 0.8745224999999999, 0.7819259999999998, 0.6964028437499998, 0.6174771881249997, 0.5447030909531247, 0.47766271052812476, 0.415964610418242, 0.3592421635430271, 0.3071520498292882, 0.2593728420780656, 0.21560367497739202, 0.17556299248159063, 0.1389873690479259, 0.10563040047642368, 0.07526166033945186, 0.04766571821498618, 0.022641216152118435, 0.0, -0.00659614097231717, -0.010754577672256257, -0.018867680126765363, -0.027805002292075272, -0.03763083016972593, -0.04841393355169419, -0.060227859920767894, -0.07315124686732942, -0.0872681541575158, -0.10266841665590097, -0.11944801937805653, -0.1377094960248271, -0.1575623524311523, -0.1791235164480468, -0.20251781586718745, -0.2278784860937499, -0.25534770937499995, -0.28507718749999994, -0.31722874999999995, -0.351975, -0.3584859224085419, -0.37810830974037785, -0.39880317573205104, -0.4206290572304921, -0.4436476820009794, -0.4679241424613505, -0.4935270788649159, -0.5205288724454179, -0.5490058490652389, -0.5790384939374359, -0.6107116780231462, -0.6441148967385505, -0.6793425216399996, -0.7164940657921872, -0.7556744635624998, -0.7969943656249998, -0.8405704499999999, -0.8865257499999999, -0.9349899999999999], \"type\": \"scatter\", \"uid\": \"1e6e7393-c27f-4700-b78b-258a5c1adcc4\"}], {}, {\"showLink\": true, \"linkText\": \"Export to plot.ly\", \"plotlyServerURL\": \"https://plot.ly\"})});</script><script type=\"text/javascript\">window.addEventListener(\"resize\", function(){window._Plotly.Plots.resize(document.getElementById(\"1ac465e4-b15b-4322-b181-639f487276d6\"));});</script>"
      ],
      "text/vnd.plotly.v1+html": [
       "<div id=\"1ac465e4-b15b-4322-b181-639f487276d6\" style=\"height: 525px; width: 100%;\" class=\"plotly-graph-div\"></div><script type=\"text/javascript\">require([\"plotly\"], function(Plotly) { window.PLOTLYENV=window.PLOTLYENV || {};window.PLOTLYENV.BASE_URL=\"https://plot.ly\";Plotly.newPlot(\"1ac465e4-b15b-4322-b181-639f487276d6\", [{\"y\": [0.9746999999999999, 0.8745224999999999, 0.7819259999999998, 0.6964028437499998, 0.6174771881249997, 0.5447030909531247, 0.47766271052812476, 0.415964610418242, 0.3592421635430271, 0.3071520498292882, 0.2593728420780656, 0.21560367497739202, 0.17556299248159063, 0.1389873690479259, 0.10563040047642368, 0.07526166033945186, 0.04766571821498618, 0.022641216152118435, 0.0, -0.00659614097231717, -0.010754577672256257, -0.018867680126765363, -0.027805002292075272, -0.03763083016972593, -0.04841393355169419, -0.060227859920767894, -0.07315124686732942, -0.0872681541575158, -0.10266841665590097, -0.11944801937805653, -0.1377094960248271, -0.1575623524311523, -0.1791235164480468, -0.20251781586718745, -0.2278784860937499, -0.25534770937499995, -0.28507718749999994, -0.31722874999999995, -0.351975, -0.3584859224085419, -0.37810830974037785, -0.39880317573205104, -0.4206290572304921, -0.4436476820009794, -0.4679241424613505, -0.4935270788649159, -0.5205288724454179, -0.5490058490652389, -0.5790384939374359, -0.6107116780231462, -0.6441148967385505, -0.6793425216399996, -0.7164940657921872, -0.7556744635624998, -0.7969943656249998, -0.8405704499999999, -0.8865257499999999, -0.9349899999999999], \"type\": \"scatter\", \"uid\": \"1e6e7393-c27f-4700-b78b-258a5c1adcc4\"}], {}, {\"showLink\": true, \"linkText\": \"Export to plot.ly\", \"plotlyServerURL\": \"https://plot.ly\"})});</script><script type=\"text/javascript\">window.addEventListener(\"resize\", function(){window._Plotly.Plots.resize(document.getElementById(\"1ac465e4-b15b-4322-b181-639f487276d6\"));});</script>"
      ]
     },
     "metadata": {},
     "output_type": "display_data"
    }
   ],
   "source": [
    "check_list = []\n",
    "\n",
    "second_hand =False\n",
    "get_scn('win' , check_list, second_hand)   \n",
    "get_scn('draw' , check_list, second_hand)\n",
    "get_scn('loss' , check_list, second_hand)   \n",
    "get_scn('wrong' , check_list, second_hand)   \n",
    "\n",
    "df = pd.DataFrame( data = check_list , columns=[ 'step' , 'score'])\n",
    "\n",
    "line = go.Scatter( x = df['step'] , y=df['score'])\n",
    "line2 = go.Scatter( y=df['score'])\n",
    "iplot([line2])"
   ]
  },
  {
   "cell_type": "code",
   "execution_count": null,
   "metadata": {},
   "outputs": [],
   "source": []
  }
 ],
 "metadata": {
  "kernelspec": {
   "display_name": "Python 3",
   "language": "python",
   "name": "python3"
  },
  "language_info": {
   "codemirror_mode": {
    "name": "ipython",
    "version": 3
   },
   "file_extension": ".py",
   "mimetype": "text/x-python",
   "name": "python",
   "nbconvert_exporter": "python",
   "pygments_lexer": "ipython3",
   "version": "3.6.5"
  }
 },
 "nbformat": 4,
 "nbformat_minor": 2
}
